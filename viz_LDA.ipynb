{
  "nbformat": 4,
  "nbformat_minor": 0,
  "metadata": {
    "colab": {
      "name": "Copia di LDA_topics_tuning.ipynb",
      "provenance": [],
      "collapsed_sections": []
    },
    "kernelspec": {
      "name": "python3",
      "display_name": "Python 3"
    },
    "language_info": {
      "name": "python"
    }
  },
  "cells": [
    {
      "cell_type": "markdown",
      "metadata": {
        "id": "TfsVhm05PuUm"
      },
      "source": [
        "## Import Libraries"
      ]
    },
    {
      "cell_type": "code",
      "metadata": {
        "id": "EvR6q67hYOZJ"
      },
      "source": [
        "import pandas as pd\n",
        "import numpy as np\n",
        "import re\n",
        "import glob\n",
        "from pathlib import Path"
      ],
      "execution_count": 2,
      "outputs": []
    },
    {
      "cell_type": "code",
      "metadata": {
        "colab": {
          "base_uri": "https://localhost:8080/"
        },
        "id": "vBJSWgTWYcd6",
        "outputId": "790fe10c-976f-4aed-deff-375d83c5299f"
      },
      "source": [
        "from sklearn.feature_extraction.text import CountVectorizer\n",
        "import nltk\n",
        "nltk.download('stopwords')\n",
        "from nltk.corpus import stopwords"
      ],
      "execution_count": 3,
      "outputs": [
        {
          "output_type": "stream",
          "name": "stdout",
          "text": [
            "[nltk_data] Downloading package stopwords to /root/nltk_data...\n",
            "[nltk_data]   Package stopwords is already up-to-date!\n"
          ]
        }
      ]
    },
    {
      "cell_type": "code",
      "metadata": {
        "id": "VncTP8AzYkGw"
      },
      "source": [
        "from nltk import word_tokenize"
      ],
      "execution_count": 4,
      "outputs": []
    },
    {
      "cell_type": "code",
      "metadata": {
        "id": "tqmIGPneZtAR"
      },
      "source": [
        "from sklearn.decomposition import LatentDirichletAllocation"
      ],
      "execution_count": 5,
      "outputs": []
    },
    {
      "cell_type": "code",
      "metadata": {
        "id": "z8iUHqJ_QG_4"
      },
      "source": [
        "from sklearn.model_selection import GridSearchCV"
      ],
      "execution_count": 6,
      "outputs": []
    },
    {
      "cell_type": "code",
      "metadata": {
        "colab": {
          "base_uri": "https://localhost:8080/"
        },
        "id": "I7tJ4n1PYl3R",
        "outputId": "a32519c4-bd45-4f6d-bccc-0f13b1217a3e"
      },
      "source": [
        "nltk.download('punkt')"
      ],
      "execution_count": 7,
      "outputs": [
        {
          "output_type": "stream",
          "name": "stdout",
          "text": [
            "[nltk_data] Downloading package punkt to /root/nltk_data...\n",
            "[nltk_data]   Package punkt is already up-to-date!\n"
          ]
        },
        {
          "output_type": "execute_result",
          "data": {
            "text/plain": [
              "True"
            ]
          },
          "metadata": {},
          "execution_count": 7
        }
      ]
    },
    {
      "cell_type": "code",
      "metadata": {
        "colab": {
          "base_uri": "https://localhost:8080/"
        },
        "id": "YmCYDsXFYa18",
        "outputId": "84b4dbf8-f1c8-493b-d6c3-fccc20d60ff3"
      },
      "source": [
        "from google.colab import drive\n",
        "drive.mount('/content/drive')"
      ],
      "execution_count": 8,
      "outputs": [
        {
          "output_type": "stream",
          "name": "stdout",
          "text": [
            "Drive already mounted at /content/drive; to attempt to forcibly remount, call drive.mount(\"/content/drive\", force_remount=True).\n"
          ]
        }
      ]
    },
    {
      "cell_type": "markdown",
      "metadata": {
        "id": "M-BGB4KNQCIh"
      },
      "source": [
        "## Functions"
      ]
    },
    {
      "cell_type": "code",
      "metadata": {
        "id": "f4t_4dB_YuwB"
      },
      "source": [
        "def cleaner(text):\n",
        "    # Retweets\n",
        "    text = re.sub('^RT ', '', text)\n",
        "    # Mentions\n",
        "    text = re.sub(\"@[A-Za-z0-9]+\",\"\", text)\n",
        "    # Hashtags\n",
        "    text = re.sub(\"#[A-Za-z0-9]+\",\"\", text)\n",
        "    # URLs\n",
        "    text = re.sub(r'http\\S+', '', text)\n",
        "    # Attachments\n",
        "    text = re.sub('[.*?]','', text)\n",
        "    # remove href\n",
        "    text = re.sub(\"href\", '', text)\n",
        "    # Special\n",
        "    text = re.sub(\"[^A-Za-z0-9\\s.,;?!':àòèéìù]\", '', text)\n",
        "    text = re.sub(\"[♥♡\\U00010000-\\U0010ffff]\", '', text)\n",
        "    text = re.sub(\"\\n\", '', text)\n",
        "    # Remove stop words and non-alphabet characters\n",
        "    tokens = []\n",
        "    for w in word_tokenize(text):\n",
        "        if (len(w) == 1 and not w.isalpha() and not w.isnumeric()):\n",
        "            continue\n",
        "        tokens.append(w)\n",
        "    text = ' '.join(tokens)\n",
        "    \n",
        "\n",
        "    return text"
      ],
      "execution_count": 9,
      "outputs": []
    },
    {
      "cell_type": "code",
      "metadata": {
        "id": "RyAgEPb2YyJT"
      },
      "source": [
        "def return_top_words(model, feature_names, n_top_words):\n",
        "    '''Function that return a dictionary with topics and relative frequent words\n",
        "        Parameters\n",
        "        ----------\n",
        "\n",
        "        model :sklearn.decomposition._lda.LatentDirichletAllocation\n",
        "                LDA with online variational Bayes algorithm \n",
        "\n",
        "        feature_names : list\n",
        "                List obtained through the get_feature_names() method of the CountVectorizer() object\n",
        "\n",
        "        n_top_words : int\n",
        "                Number of most frequent words to show for each topic\n",
        "\n",
        "        Returns\n",
        "        -------\n",
        "        topics : dict\n",
        "                Dictionary that contains the indexes of the topics as keys and the most frequent words as values\n",
        "    '''\n",
        "    topics = {0 : '', 1 : '', 2 : ''}\n",
        "    for topic_idx, topic in enumerate(model.components_):\n",
        "        topics[topic_idx] = ', '.join([feature_names[i] for i in topic.argsort()[:-n_top_words - 1:-1]])\n",
        "    \n",
        "    return topics"
      ],
      "execution_count": 10,
      "outputs": []
    },
    {
      "cell_type": "markdown",
      "metadata": {
        "id": "h-lieEeRfqPw"
      },
      "source": [
        "I followed this <a href=\"https://www.machinelearningplus.com/nlp/topic-modeling-python-sklearn-examples/\">link</a> to choose the best number of topics through the gridsearch "
      ]
    },
    {
      "cell_type": "code",
      "metadata": {
        "id": "oHYI_qx-Y0NB"
      },
      "source": [
        "it_stopwords = stopwords.words('italian')\n",
        "\n",
        "def top_3(input_path):\n",
        "  #Function that returns a dataframe with the related topics for each month and other informations to the following visualization\n",
        "\n",
        "  data = []\n",
        "  indexes = []\n",
        "  lda_models = []\n",
        "  tfs = []\n",
        "  tf_vectorizers = []\n",
        "  \n",
        "  for file in glob.glob(input_path + \"/*.csv\"):\n",
        "    #Import dataframe and extract information from path string\n",
        "    df = pd.read_csv(file)\n",
        "    info = file.split('/')[-1][:-4].split('_')\n",
        "    city = '_'.join([e for e in info[:len(info)-2] ])\n",
        "    year = info[len(info)-2]\n",
        "    month = info[len(info)-1]\n",
        "\n",
        "    # Clean text column and transform into list \n",
        "    x_train = df['text'].apply(cleaner).tolist()\n",
        "\n",
        "    # Add city name to stop_words list because it is useless information\n",
        "    it_stopwords.extend(info[:-2])\n",
        "    it_stopwords.append('sicilia')\n",
        "    it_stopwords.append('canicattì')\n",
        "  \n",
        "    \n",
        "    # Build a matrix of token counts\n",
        "    tf_vectorizer = CountVectorizer(stop_words=it_stopwords, max_df=1.0, min_df= 1,max_features = 1000, ngram_range=(1,3))\n",
        "    tf_vectorizers.append(tf_vectorizer)\n",
        "    try:\n",
        "      tf = tf_vectorizer.fit_transform(x_train)\n",
        "      tfs.append(tf)\n",
        "\n",
        "      #Apply GridSearchCV to find best model with optimal number of topics\n",
        "      lda = LatentDirichletAllocation()\n",
        "      search_params = {'n_components': [2,3]}\n",
        "      model = GridSearchCV(lda, param_grid=search_params)\n",
        "      model.fit(tf)\n",
        "\n",
        "      n_top_words = 5\n",
        "      tf_feature_names = tf_vectorizer.get_feature_names()\n",
        "      lda = model.best_estimator_\n",
        "      lda_models.append(lda)\n",
        "      dizio = return_top_words(lda, tf_feature_names, n_top_words)\n",
        "      \n",
        "    except:\n",
        "      dizio = {}\n",
        "      dizio[0] = 'only stop words'\n",
        "      dizio[1] = 'only stop words'\n",
        "      dizio[2] = 'only stop words'\n",
        "    \n",
        "    data.append([f'{year}/{month}',dizio[0], dizio[1], dizio[2]])\n",
        "    indexes.append((int(year[-1])*12) + int(month)-1)\n",
        "    \n",
        "  return (pd.DataFrame(data, index=indexes, columns=['date', 'topic 1', 'topic 2', 'topic 3']),lda_models, tfs, tf_vectorizers)\n"
      ],
      "execution_count": 46,
      "outputs": []
    },
    {
      "cell_type": "markdown",
      "metadata": {
        "id": "xR0t9llmgv22"
      },
      "source": [
        "## Visualization with pyLDAvis library"
      ]
    },
    {
      "cell_type": "code",
      "metadata": {
        "id": "aZve0DS2lKDO"
      },
      "source": [
        "cities = [\n",
        "        'canicattì'\n",
        "          ]\n",
        "\n",
        "for city in cities:\n",
        "  path = f'/content/drive/MyDrive/NLP/topic_notebooks/{city}'\n",
        "  topic_info = top_3(path)\n",
        "  df = topic_info[0]\n"
      ],
      "execution_count": null,
      "outputs": []
    },
    {
      "cell_type": "code",
      "metadata": {
        "id": "01739f5NSVHZ"
      },
      "source": [
        "lda_canicattì_2020_02 = topic_info[1][21]\n",
        "tf_canicattì_2020_02 = topic_info[2][21]\n",
        "tf_vectorizer_canicattì_2020_02 = topic_info[3][21]"
      ],
      "execution_count": 65,
      "outputs": []
    },
    {
      "cell_type": "code",
      "metadata": {
        "id": "VChtj9akhTlM"
      },
      "source": [
        "import pyLDAvis\n",
        "import pyLDAvis.sklearn"
      ],
      "execution_count": 66,
      "outputs": []
    },
    {
      "cell_type": "code",
      "metadata": {
        "id": "uwG_jArOhXze"
      },
      "source": [
        "pyLDAvis.enable_notebook()"
      ],
      "execution_count": 67,
      "outputs": []
    },
    {
      "cell_type": "code",
      "metadata": {
        "colab": {
          "base_uri": "https://localhost:8080/",
          "height": 951
        },
        "id": "_GbQMNsehisP",
        "outputId": "c0f5e1e0-eacc-41c8-f38c-e03c3364c97c"
      },
      "source": [
        "pyLDAvis.sklearn.prepare(lda_canicattì_2020_02,tf_canicattì_2020_02,tf_vectorizer_canicattì_2020_02)"
      ],
      "execution_count": 68,
      "outputs": [
        {
          "output_type": "stream",
          "name": "stderr",
          "text": [
            "/usr/local/lib/python3.7/dist-packages/sklearn/utils/deprecation.py:87: FutureWarning: Function get_feature_names is deprecated; get_feature_names is deprecated in 1.0 and will be removed in 1.2. Please use get_feature_names_out instead.\n",
            "  warnings.warn(msg, category=FutureWarning)\n",
            "/usr/local/lib/python3.7/dist-packages/pyLDAvis/_prepare.py:247: FutureWarning: In a future version of pandas all arguments of DataFrame.drop except for the argument 'labels' will be keyword-only\n",
            "  by='saliency', ascending=False).head(R).drop('saliency', 1)\n"
          ]
        },
        {
          "output_type": "execute_result",
          "data": {
            "text/html": [
              "\n",
              "<link rel=\"stylesheet\" type=\"text/css\" href=\"https://cdn.jsdelivr.net/gh/bmabey/pyLDAvis@3.3.1/pyLDAvis/js/ldavis.v1.0.0.css\">\n",
              "\n",
              "\n",
              "<div id=\"ldavis_el414139876940263632575377913\"></div>\n",
              "<script type=\"text/javascript\">\n",
              "\n",
              "var ldavis_el414139876940263632575377913_data = {\"mdsDat\": {\"x\": [0.10674042684587032, -0.10674042684587032], \"y\": [0.0, 0.0], \"topics\": [1, 2], \"cluster\": [1, 1], \"Freq\": [58.054793495231586, 41.945206504768414]}, \"tinfo\": {\"Term\": [\"amministrative\", \"corbo\", \"arrestato\", \"palazzina\", \"agrigento\", \"ballottaggio\", \"ventenne\", \"cittadinanza\", \"reddito\", \"auto\", \"giudice\", \"spaccio\", \"elezioni\", \"scoperta sconvolgente\", \"spacciatore\", \"ventenne spacciatore\", \"sconvolgente\", \"scoperta\", \"conte\", \"spacciatore arrestato scoperta\", \"cittadinanza imbarazzo conte\", \"imbarazzo conte maio\", \"cittadinanza imbarazzo\", \"maio\", \"arrestato scoperta\", \"imbarazzo conte\", \"conte maio\", \"spacciatore arrestato\", \"maio ventenne\", \"conte maio ventenne\", \"amministrative\", \"corbo\", \"agrigento\", \"ballottaggio\", \"elezioni\", \"traffico\", \"ragusa\", \"gela\", \"sospeso\", \"ottobre\", \"elezioni amministrative\", \"vincenzo corbo\", \"nuovo\", \"candidato\", \"sciacca\", \"linea\", \"candidato sindaco\", \"sciabarr\\u00e0\", \"nuovo sindaco\", \"2021\", \"licata\", \"agg\", \"dopo\", \"urne\", \"condizioni\", \"sindaco vincenzo\", \"sindaco vincenzo corbo\", \"amministrative ecco\", \"amministrative ecco candidato\", \"ecco candidato\", \"favara porto\", \"favara porto empedocle\", \"vincenzo\", \"sindaco\", \"empedocle\", \"porto\", \"porto empedocle\", \"favara\", \"provincia\", \"siracusa\", \"ecco\", \"palazzina\", \"cittadinanza\", \"reddito\", \"auto\", \"giudice\", \"spaccio\", \"ventenne\", \"arrestato scoperta\", \"arrestato scoperta sconvolgente\", \"cittadinanza imbarazzo\", \"cittadinanza imbarazzo conte\", \"conte\", \"conte maio\", \"conte maio ventenne\", \"imbarazzo\", \"imbarazzo conte\", \"imbarazzo conte maio\", \"maio\", \"maio ventenne\", \"maio ventenne spacciatore\", \"sconvolgente\", \"scoperta\", \"scoperta sconvolgente\", \"spacciatore\", \"spacciatore arrestato\", \"spacciatore arrestato scoperta\", \"ventenne spacciatore\", \"ventenne spacciatore arrestato\", \"reddito cittadinanza\", \"acqua\", \"arrestato\", \"san\", \"via\", \"cocaina\", \"due\", \"livatino\", \"comuni\"], \"Freq\": [12.0, 11.0, 6.0, 5.0, 9.0, 9.0, 5.0, 4.0, 4.0, 4.0, 4.0, 4.0, 7.0, 3.0, 3.0, 3.0, 3.0, 3.0, 3.0, 3.0, 3.0, 3.0, 3.0, 3.0, 3.0, 3.0, 3.0, 3.0, 3.0, 3.0, 12.26595682549131, 10.855490952954364, 8.758707632440974, 8.757522552630983, 7.35913687667605, 5.957737382405866, 5.957548076735413, 5.257114231065091, 5.256690155455538, 5.25654877842262, 5.256389941893019, 5.25611870591372, 5.252265980062479, 4.554668891338044, 4.554193253477547, 3.854602348471846, 3.8544422971358374, 3.85419123871698, 3.8541160371952374, 3.8526209689660336, 3.8500547320732013, 3.1539924132906028, 3.153776331705957, 3.15377259391619, 3.1536390998899884, 3.1535658528092627, 3.1535658528092627, 3.1533852422613258, 3.1533852422613258, 3.1533852422613258, 7.507264891448425, 7.507264876367566, 6.050385138286375, 13.72155044273907, 8.122147965446482, 8.122147965443903, 8.122147965431429, 8.112392220567253, 4.612755556311049, 4.596135521570134, 3.8529999297800566, 4.7882310014706935, 4.150240799032065, 4.150076743827987, 4.149862384052275, 4.149519781184973, 4.149378262442158, 4.7371860070606315, 3.5118405515523063, 3.5118405515523063, 3.5118405515523063, 3.5118405515523063, 3.5118405515523063, 3.5118405515523063, 3.5118405515523063, 3.5118405515523063, 3.5118405515523063, 3.5118405515523063, 3.5118405515523063, 3.5118405515523063, 3.5118405515523063, 3.5118405515523063, 3.5118405515523063, 3.5118405515523063, 3.5118405515523063, 3.5118405515523063, 3.5118405515523063, 3.5118405515523063, 3.5118405515523063, 3.5116239496215766, 3.511195475390074, 5.633024257690448, 4.287621173764585, 4.186817203008234, 3.7515878940301826, 4.183215288657484, 3.599787426114129, 3.6002728732383416], \"Total\": [12.0, 11.0, 6.0, 5.0, 9.0, 9.0, 5.0, 4.0, 4.0, 4.0, 4.0, 4.0, 7.0, 3.0, 3.0, 3.0, 3.0, 3.0, 3.0, 3.0, 3.0, 3.0, 3.0, 3.0, 3.0, 3.0, 3.0, 3.0, 3.0, 3.0, 12.587313059031198, 11.184483790461387, 9.081925015914091, 9.081819440445798, 7.680066363032431, 6.278044792917309, 6.278027928200991, 5.577040831566292, 5.577003051848258, 5.576990456961119, 5.576976306655921, 5.576952142995978, 5.576608914352213, 4.875874536513713, 4.875832163257975, 4.17492016186552, 4.174905903336595, 4.174883537239461, 4.1748768377447885, 4.174743646269329, 4.174515027353186, 3.4739173779054444, 3.473898127797311, 3.473897794808004, 3.473885902196036, 3.4738793768170835, 3.4738793768170835, 3.473863286725077, 3.473863286725077, 3.473863286725077, 8.331850067419753, 8.331850066076242, 6.924885915156268, 16.54851219713905, 10.302390465514343, 10.302390465514113, 10.302390465513, 10.940108744333244, 5.519636707169546, 5.518156074442587, 6.090539579925711, 5.140040894316179, 4.501395098272987, 4.5014111428633825, 4.501432107238261, 4.501465613780802, 4.5014794543064625, 5.145033092105766, 3.862789404613414, 3.862789404613414, 3.862789404613414, 3.862789404613414, 3.862789404613414, 3.862789404613414, 3.862789404613414, 3.862789404613414, 3.862789404613414, 3.862789404613414, 3.862789404613414, 3.862789404613414, 3.862789404613414, 3.862789404613414, 3.862789404613414, 3.862789404613414, 3.862789404613414, 3.862789404613414, 3.862789404613414, 3.862789404613414, 3.862789404613414, 3.8628105882709356, 3.862852493028414, 6.459502567040934, 5.890041713892818, 5.899900336972772, 4.5403833315795, 7.3023350131086175, 4.555229409420393, 5.256223137267117], \"Category\": [\"Default\", \"Default\", \"Default\", \"Default\", \"Default\", \"Default\", \"Default\", \"Default\", \"Default\", \"Default\", \"Default\", \"Default\", \"Default\", \"Default\", \"Default\", \"Default\", \"Default\", \"Default\", \"Default\", \"Default\", \"Default\", \"Default\", \"Default\", \"Default\", \"Default\", \"Default\", \"Default\", \"Default\", \"Default\", \"Default\", \"Topic1\", \"Topic1\", \"Topic1\", \"Topic1\", \"Topic1\", \"Topic1\", \"Topic1\", \"Topic1\", \"Topic1\", \"Topic1\", \"Topic1\", \"Topic1\", \"Topic1\", \"Topic1\", \"Topic1\", \"Topic1\", \"Topic1\", \"Topic1\", \"Topic1\", \"Topic1\", \"Topic1\", \"Topic1\", \"Topic1\", \"Topic1\", \"Topic1\", \"Topic1\", \"Topic1\", \"Topic1\", \"Topic1\", \"Topic1\", \"Topic1\", \"Topic1\", \"Topic1\", \"Topic1\", \"Topic1\", \"Topic1\", \"Topic1\", \"Topic1\", \"Topic1\", \"Topic1\", \"Topic1\", \"Topic2\", \"Topic2\", \"Topic2\", \"Topic2\", \"Topic2\", \"Topic2\", \"Topic2\", \"Topic2\", \"Topic2\", \"Topic2\", \"Topic2\", \"Topic2\", \"Topic2\", \"Topic2\", \"Topic2\", \"Topic2\", \"Topic2\", \"Topic2\", \"Topic2\", \"Topic2\", \"Topic2\", \"Topic2\", \"Topic2\", \"Topic2\", \"Topic2\", \"Topic2\", \"Topic2\", \"Topic2\", \"Topic2\", \"Topic2\", \"Topic2\", \"Topic2\", \"Topic2\", \"Topic2\", \"Topic2\", \"Topic2\", \"Topic2\"], \"logprob\": [30.0, 29.0, 28.0, 27.0, 26.0, 25.0, 24.0, 23.0, 22.0, 21.0, 20.0, 19.0, 18.0, 17.0, 16.0, 15.0, 14.0, 13.0, 12.0, 11.0, 10.0, 9.0, 8.0, 7.0, 6.0, 5.0, 4.0, 3.0, 2.0, 1.0, -4.5808, -4.703, -4.9176, -4.9177, -5.0917, -5.303, -5.303, -5.4281, -5.4281, -5.4282, -5.4282, -5.4283, -5.429, -5.5715, -5.5716, -5.7384, -5.7384, -5.7385, -5.7385, -5.7389, -5.7396, -5.939, -5.939, -5.939, -5.9391, -5.9391, -5.9391, -5.9392, -5.9392, -5.9392, -5.0718, -5.0718, -5.2875, -4.4687, -4.9931, -4.9931, -4.9931, -4.9943, -5.5588, -5.5624, -5.7388, -5.1965, -5.3395, -5.3395, -5.3396, -5.3396, -5.3397, -5.2072, -5.5065, -5.5065, -5.5065, -5.5065, -5.5065, -5.5065, -5.5065, -5.5065, -5.5065, -5.5065, -5.5065, -5.5065, -5.5065, -5.5065, -5.5065, -5.5065, -5.5065, -5.5065, -5.5065, -5.5065, -5.5065, -5.5065, -5.5067, -5.034, -5.3069, -5.3307, -5.4404, -5.3315, -5.4818, -5.4816], \"loglift\": [30.0, 29.0, 28.0, 27.0, 26.0, 25.0, 24.0, 23.0, 22.0, 21.0, 20.0, 19.0, 18.0, 17.0, 16.0, 15.0, 14.0, 13.0, 12.0, 11.0, 10.0, 9.0, 8.0, 7.0, 6.0, 5.0, 4.0, 3.0, 2.0, 1.0, 0.5179, 0.5139, 0.5075, 0.5074, 0.5011, 0.4914, 0.4914, 0.4847, 0.4846, 0.4846, 0.4846, 0.4845, 0.4839, 0.4756, 0.4755, 0.464, 0.4639, 0.4639, 0.4638, 0.4635, 0.4629, 0.4472, 0.4471, 0.4471, 0.4471, 0.447, 0.447, 0.447, 0.447, 0.447, 0.4396, 0.4396, 0.4088, 0.3565, 0.306, 0.306, 0.306, 0.2447, 0.3643, 0.361, 0.0859, 0.7979, 0.7876, 0.7875, 0.7875, 0.7874, 0.7874, 0.7862, 0.7736, 0.7736, 0.7736, 0.7736, 0.7736, 0.7736, 0.7736, 0.7736, 0.7736, 0.7736, 0.7736, 0.7736, 0.7736, 0.7736, 0.7736, 0.7736, 0.7736, 0.7736, 0.7736, 0.7736, 0.7736, 0.7735, 0.7734, 0.7319, 0.5513, 0.5258, 0.678, 0.3117, 0.6334, 0.4904]}, \"token.table\": {\"Topic\": [1, 2, 1, 1, 1, 1, 1, 1, 2, 2, 2, 2, 1, 1, 1, 2, 2, 2, 1, 2, 1, 2, 1, 2, 2, 2, 1, 1, 1, 2, 1, 2, 1, 1, 1, 1, 2, 1, 2, 1, 2, 1, 2, 1, 2, 2, 2, 2, 1, 1, 1, 2, 2, 2, 2, 1, 1, 1, 2, 1, 2, 1, 2, 1, 2, 1, 2, 2, 1, 2, 1, 1, 2, 2, 2, 1, 2, 1, 1, 1, 2, 1, 2, 2, 2, 2, 1, 1, 2, 2, 2, 1, 2, 1, 2, 1], \"Freq\": [0.9581426642985648, 1.0355042050451335, 0.8635783968497296, 0.990979333591663, 0.953340871377644, 0.8635918435432146, 0.8635918435432146, 0.1548106823430051, 0.9288640940580306, 1.0355211172586092, 1.0355211172586092, 0.8886060935070057, 0.9909908536519217, 1.0254570667388496, 0.9581054262332452, 0.8886133993291652, 1.0355211172586092, 1.0355211172586092, 0.22024572089425803, 0.8809828835770321, 0.38050135007013147, 0.7610027001402629, 0.8635862214425446, 1.0355211172586092, 1.0355211172586092, 1.0355211172586092, 0.9835053817487113, 0.8635831822455327, 0.4108274948512523, 0.5477699931350031, 0.6567562606741635, 0.32837813033708174, 0.8635918435432146, 0.9114504574718401, 0.8965431669545878, 0.7765188115106646, 0.19412970287766615, 0.7312541572444459, 0.2742203089666672, 0.960170902652534, 0.12002136283156675, 0.9601709028073615, 0.12002136285092019, 0.8965327941835721, 0.8885994791905967, 1.0355211172586092, 1.0355211172586092, 1.0355211172586092, 0.958195137348964, 0.9581021540332022, 0.21952791179560807, 0.8781116471824323, 1.0355211172586092, 1.0355211172586092, 1.0355211172586092, 0.8966022320718553, 0.9581120965860026, 0.8965408921865864, 0.9727549065862422, 0.7765188115106819, 0.19412970287767048, 0.7765188115107658, 0.19412970287769146, 0.9058567194296353, 0.18117134388592707, 0.9557141300770444, 0.8886102320028401, 1.0355154384596612, 0.3395561690645769, 0.6791123381291538, 0.9581105590899671, 1.0254659784390645, 1.0355211172586092, 1.0355211172586092, 1.0355211172586092, 0.8459975031725424, 0.1812851792512591, 0.863587843613824, 0.863587843613824, 0.9060997790833729, 0.18121995581667458, 0.896538867473448, 1.0355211172586092, 1.0355211172586092, 1.0355211172586092, 0.8885967470479714, 0.955711562741478, 0.8635832650240087, 0.9718110477601599, 1.0355211172586092, 1.0355211172586092, 0.33898877705893526, 0.6779775541178705, 0.8664402668162372, 0.14440671113603953, 0.8965470514713731], \"Term\": [\"2021\", \"acqua\", \"agg\", \"agrigento\", \"amministrative\", \"amministrative ecco\", \"amministrative ecco candidato\", \"arrestato\", \"arrestato\", \"arrestato scoperta\", \"arrestato scoperta sconvolgente\", \"auto\", \"ballottaggio\", \"candidato\", \"candidato sindaco\", \"cittadinanza\", \"cittadinanza imbarazzo\", \"cittadinanza imbarazzo conte\", \"cocaina\", \"cocaina\", \"comuni\", \"comuni\", \"condizioni\", \"conte\", \"conte maio\", \"conte maio ventenne\", \"corbo\", \"dopo\", \"due\", \"due\", \"ecco\", \"ecco\", \"ecco candidato\", \"elezioni\", \"elezioni amministrative\", \"empedocle\", \"empedocle\", \"favara\", \"favara\", \"favara porto\", \"favara porto\", \"favara porto empedocle\", \"favara porto empedocle\", \"gela\", \"giudice\", \"imbarazzo\", \"imbarazzo conte\", \"imbarazzo conte maio\", \"licata\", \"linea\", \"livatino\", \"livatino\", \"maio\", \"maio ventenne\", \"maio ventenne spacciatore\", \"nuovo\", \"nuovo sindaco\", \"ottobre\", \"palazzina\", \"porto\", \"porto\", \"porto empedocle\", \"porto empedocle\", \"provincia\", \"provincia\", \"ragusa\", \"reddito\", \"reddito cittadinanza\", \"san\", \"san\", \"sciabarr\\u00e0\", \"sciacca\", \"sconvolgente\", \"scoperta\", \"scoperta sconvolgente\", \"sindaco\", \"sindaco\", \"sindaco vincenzo\", \"sindaco vincenzo corbo\", \"siracusa\", \"siracusa\", \"sospeso\", \"spacciatore\", \"spacciatore arrestato\", \"spacciatore arrestato scoperta\", \"spaccio\", \"traffico\", \"urne\", \"ventenne\", \"ventenne spacciatore\", \"ventenne spacciatore arrestato\", \"via\", \"via\", \"vincenzo\", \"vincenzo\", \"vincenzo corbo\"]}, \"R\": 30, \"lambda.step\": 0.01, \"plot.opts\": {\"xlab\": \"PC1\", \"ylab\": \"PC2\"}, \"topic.order\": [2, 1]};\n",
              "\n",
              "function LDAvis_load_lib(url, callback){\n",
              "  var s = document.createElement('script');\n",
              "  s.src = url;\n",
              "  s.async = true;\n",
              "  s.onreadystatechange = s.onload = callback;\n",
              "  s.onerror = function(){console.warn(\"failed to load library \" + url);};\n",
              "  document.getElementsByTagName(\"head\")[0].appendChild(s);\n",
              "}\n",
              "\n",
              "if(typeof(LDAvis) !== \"undefined\"){\n",
              "   // already loaded: just create the visualization\n",
              "   !function(LDAvis){\n",
              "       new LDAvis(\"#\" + \"ldavis_el414139876940263632575377913\", ldavis_el414139876940263632575377913_data);\n",
              "   }(LDAvis);\n",
              "}else if(typeof define === \"function\" && define.amd){\n",
              "   // require.js is available: use it to load d3/LDAvis\n",
              "   require.config({paths: {d3: \"https://d3js.org/d3.v5\"}});\n",
              "   require([\"d3\"], function(d3){\n",
              "      window.d3 = d3;\n",
              "      LDAvis_load_lib(\"https://cdn.jsdelivr.net/gh/bmabey/pyLDAvis@3.3.1/pyLDAvis/js/ldavis.v3.0.0.js\", function(){\n",
              "        new LDAvis(\"#\" + \"ldavis_el414139876940263632575377913\", ldavis_el414139876940263632575377913_data);\n",
              "      });\n",
              "    });\n",
              "}else{\n",
              "    // require.js not available: dynamically load d3 & LDAvis\n",
              "    LDAvis_load_lib(\"https://d3js.org/d3.v5.js\", function(){\n",
              "         LDAvis_load_lib(\"https://cdn.jsdelivr.net/gh/bmabey/pyLDAvis@3.3.1/pyLDAvis/js/ldavis.v3.0.0.js\", function(){\n",
              "                 new LDAvis(\"#\" + \"ldavis_el414139876940263632575377913\", ldavis_el414139876940263632575377913_data);\n",
              "            })\n",
              "         });\n",
              "}\n",
              "</script>"
            ],
            "text/plain": [
              "PreparedData(topic_coordinates=             x    y  topics  cluster       Freq\n",
              "topic                                          \n",
              "1      0.10674  0.0       1        1  58.054793\n",
              "0     -0.10674  0.0       2        1  41.945207, topic_info=               Term       Freq      Total Category  logprob  loglift\n",
              "28   amministrative  12.000000  12.000000  Default  30.0000  30.0000\n",
              "142           corbo  11.000000  11.000000  Default  29.0000  29.0000\n",
              "43        arrestato   6.000000   6.000000  Default  28.0000  28.0000\n",
              "447       palazzina   5.000000   5.000000  Default  27.0000  27.0000\n",
              "21        agrigento   9.000000   9.000000  Default  26.0000  26.0000\n",
              "..              ...        ...        ...      ...      ...      ...\n",
              "939             via   4.186817   5.899900   Topic2  -5.3307   0.5258\n",
              "121         cocaina   3.751588   4.540383   Topic2  -5.4404   0.6780\n",
              "169             due   4.183215   7.302335   Topic2  -5.3315   0.3117\n",
              "264        livatino   3.599787   4.555229   Topic2  -5.4818   0.6334\n",
              "132          comuni   3.600273   5.256223   Topic2  -5.4816   0.4904\n",
              "\n",
              "[108 rows x 6 columns], token_table=      Topic      Freq            Term\n",
              "term                                 \n",
              "6         1  0.958143            2021\n",
              "11        2  1.035504           acqua\n",
              "18        1  0.863578             agg\n",
              "21        1  0.990979       agrigento\n",
              "28        1  0.953341  amministrative\n",
              "...     ...       ...             ...\n",
              "939       1  0.338989             via\n",
              "939       2  0.677978             via\n",
              "961       1  0.866440        vincenzo\n",
              "961       2  0.144407        vincenzo\n",
              "962       1  0.896547  vincenzo corbo\n",
              "\n",
              "[96 rows x 3 columns], R=30, lambda_step=0.01, plot_opts={'xlab': 'PC1', 'ylab': 'PC2'}, topic_order=[2, 1])"
            ]
          },
          "metadata": {},
          "execution_count": 68
        }
      ]
    },
    {
      "cell_type": "code",
      "metadata": {
        "id": "XpyKOGOVYdOj"
      },
      "source": [
        ""
      ],
      "execution_count": null,
      "outputs": []
    }
  ]
}